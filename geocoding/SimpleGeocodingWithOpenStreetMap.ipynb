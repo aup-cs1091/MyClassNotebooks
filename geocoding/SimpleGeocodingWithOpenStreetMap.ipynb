{
 "cells": [
  {
   "cell_type": "markdown",
   "metadata": {},
   "source": [
    "# This code uses OpenStreetMap to retrieve the GIS coordinate of an address\n",
    "see https://wiki.openstreetmap.org/wiki/Nominatim "
   ]
  },
  {
   "cell_type": "code",
   "execution_count": null,
   "metadata": {},
   "outputs": [],
   "source": [
    "import requests\n",
    "import json"
   ]
  },
  {
   "cell_type": "code",
   "execution_count": null,
   "metadata": {},
   "outputs": [],
   "source": [
    "# Accessing a state on openStreetMap\n",
    "#https://nominatim.openstreetmap.org/search?state=california\n",
    "url = 'https://nominatim.openstreetmap.org/search'\n",
    "params = {'state': 'california', 'format': 'json'}\n",
    "r = requests.get(url, params=params)\n",
    "r.json()[0]"
   ]
  },
  {
   "cell_type": "code",
   "execution_count": null,
   "metadata": {},
   "outputs": [],
   "source": [
    "# Extracting lat, lon and display_name\n",
    "results = r.json()[0]\n",
    "lat = results['lat']\n",
    "lon = results['lon']\n",
    "name = results['display_name']\n",
    "print('lat ',lat)\n",
    "print('lon ', lon)\n",
    "print('name ', name)"
   ]
  },
  {
   "cell_type": "code",
   "execution_count": null,
   "metadata": {},
   "outputs": [],
   "source": [
    "# Accessing a general location on openStreetMap \n",
    "url = 'https://nominatim.openstreetmap.org/search'\n",
    "params = {'q': 'california', 'format': 'json'}\n",
    "r = requests.get(url, params=params)\n",
    "results = r.json()[0]\n",
    "print(results)\n",
    "lat = r.json()[0]['lat']\n",
    "lon = r.json()[0]['lon']\n",
    "name = r.json()[0]['display_name']\n",
    "print()\n",
    "print('lat ',lat)\n",
    "print('lon ', lon)\n",
    "print('name ', name)"
   ]
  },
  {
   "cell_type": "markdown",
   "metadata": {},
   "source": [
    "Now try the <a href=\"https://jhub.aup.edu/user/croda/notebooks/MyClassNotebooks/ClassExercises/GeocodingWithOpenStreetMapExercises.ipynb\" target=\"blank\">exercises on simple geocoding with OpenStreetMap</a>"
   ]
  }
 ],
 "metadata": {
  "kernelspec": {
   "display_name": "Python 3",
   "language": "python",
   "name": "python3"
  },
  "language_info": {
   "codemirror_mode": {
    "name": "ipython",
    "version": 3
   },
   "file_extension": ".py",
   "mimetype": "text/x-python",
   "name": "python",
   "nbconvert_exporter": "python",
   "pygments_lexer": "ipython3",
   "version": "3.6.5"
  }
 },
 "nbformat": 4,
 "nbformat_minor": 2
}
