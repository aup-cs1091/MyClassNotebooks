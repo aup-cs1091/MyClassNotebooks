{
 "cells": [
  {
   "cell_type": "markdown",
   "metadata": {},
   "source": [
    "# Cleaning Data Exercises\n",
    "\n",
    "These exercises allow you to practice what we have seen in the Cleaning Data section of the chapter How Data May Become Information.\n",
    "\n",
    "For each exercise I provide, in bullet points, the similar command(s) we used in the Cleaning Data section"
   ]
  },
  {
   "cell_type": "code",
   "execution_count": null,
   "metadata": {},
   "outputs": [],
   "source": [
    "import pandas as pd\n",
    "import numpy as np"
   ]
  },
  {
   "cell_type": "markdown",
   "metadata": {},
   "source": [
    "1. import the file TeachingStyleChanges.csv (which is stored in the same folder as this notebook). You may want to check out the structure of the file in order to import it correctly\n",
    "  * df = pd.read_csv('dataFromTwitter.txt', sep='\\t')\n",
    "2. Display the first few lines of the file\n",
    "  * df.head()"
   ]
  },
  {
   "cell_type": "code",
   "execution_count": null,
   "metadata": {},
   "outputs": [],
   "source": []
  },
  {
   "cell_type": "markdown",
   "metadata": {},
   "source": [
    "3. How many rows and columns has the dataframe? (no suggestions but you can check the simpleDataCleaning notebook)"
   ]
  },
  {
   "cell_type": "code",
   "execution_count": null,
   "metadata": {},
   "outputs": [],
   "source": []
  },
  {
   "cell_type": "markdown",
   "metadata": {},
   "source": [
    "4. Display the unique values of the column Field\n",
    "  * df2\\['location'\\].unique()"
   ]
  },
  {
   "cell_type": "code",
   "execution_count": null,
   "metadata": {},
   "outputs": [],
   "source": []
  },
  {
   "cell_type": "markdown",
   "metadata": {},
   "source": [
    "5. Display the rows that have value 'Not applicable' in the column Field\n",
    "  * df4\\[df4.location == 'USA'\\]"
   ]
  },
  {
   "cell_type": "code",
   "execution_count": null,
   "metadata": {},
   "outputs": [],
   "source": []
  },
  {
   "cell_type": "markdown",
   "metadata": {},
   "source": [
    "6. Remove all rows that have the value 'Not applicable' in the column Field. Here you need to be a little creative:\n",
    "  * remember that df\\[df.&lt;column_name&gt; == '&lt;value&gt;'\\] - returns all rows that have the value &lt;value&gt; in the column &lt;column_name&gt;\n",
    "  * if you write instead df\\[df.&lt;column_name&gt; != '&lt;value&gt;'\\] this will return all rows that don't have the value &lt;value&gt; in the column &lt;column_name&gt;\n",
    "  * you can assign this to a new variable, for example df1 = df\\[df.&lt;column_name&gt; != '&lt;value&gt;'\\] \n",
    "  * you should be able to use the unique() function to verify that the new dataframe df1 does not have 'Not applicable' in the column Field."
   ]
  },
  {
   "cell_type": "code",
   "execution_count": null,
   "metadata": {},
   "outputs": [],
   "source": []
  }
 ],
 "metadata": {
  "kernelspec": {
   "display_name": "Python 3",
   "language": "python",
   "name": "python3"
  },
  "language_info": {
   "codemirror_mode": {
    "name": "ipython",
    "version": 3
   },
   "file_extension": ".py",
   "mimetype": "text/x-python",
   "name": "python",
   "nbconvert_exporter": "python",
   "pygments_lexer": "ipython3",
   "version": "3.6.5"
  }
 },
 "nbformat": 4,
 "nbformat_minor": 2
}
