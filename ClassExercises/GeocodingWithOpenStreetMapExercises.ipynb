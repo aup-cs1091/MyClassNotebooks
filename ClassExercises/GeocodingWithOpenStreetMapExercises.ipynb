{
 "cells": [
  {
   "cell_type": "markdown",
   "metadata": {},
   "source": [
    "# Exercises using OpenStreetMap to retrieve the GIS coordinate of an address\n",
    "see https://wiki.openstreetmap.org/wiki/Nominatim \n",
    "\n",
    "These exercises allow you to practice what we have seen in the Simple Geocoding section of the chapter How Data May Become Information."
   ]
  },
  {
   "cell_type": "code",
   "execution_count": null,
   "metadata": {},
   "outputs": [],
   "source": [
    "import requests\n",
    "import json"
   ]
  },
  {
   "cell_type": "code",
   "execution_count": null,
   "metadata": {},
   "outputs": [],
   "source": [
    "# As a reminder this is the code we have used to access a general location on openStreetMap\n",
    "url = 'https://nominatim.openstreetmap.org/search'\n",
    "params = {'q': 'california', 'format': 'json'}\n",
    "r = requests.get(url, params=params)\n",
    "results = r.json()[0]\n",
    "print(results)\n",
    "lat = r.json()[0]['lat']\n",
    "lon = r.json()[0]['lon']\n",
    "name = r.json()[0]['display_name']\n",
    "print()\n",
    "print('lat ',lat)\n",
    "print('lon ', lon)\n",
    "print('name ', name)"
   ]
  },
  {
   "cell_type": "markdown",
   "metadata": {},
   "source": [
    "Print only the latitude and longitute (no name and no general results) for 'california, usa' and verify that the result is the same as above"
   ]
  },
  {
   "cell_type": "code",
   "execution_count": null,
   "metadata": {},
   "outputs": [],
   "source": []
  },
  {
   "cell_type": "markdown",
   "metadata": {},
   "source": [
    "Print the general results, the latitude and longitute (no name) for 'New York City'"
   ]
  },
  {
   "cell_type": "code",
   "execution_count": null,
   "metadata": {},
   "outputs": [],
   "source": []
  },
  {
   "cell_type": "markdown",
   "metadata": {},
   "source": [
    "Print the general results, name, latitude and longitute for 'Mountain View, CA'. Note that this is not what we would have expected"
   ]
  },
  {
   "cell_type": "code",
   "execution_count": null,
   "metadata": {},
   "outputs": [],
   "source": []
  },
  {
   "cell_type": "markdown",
   "metadata": {},
   "source": [
    "Can you think of a way of fixing your query so that Mountain View, CA in the USA is found?"
   ]
  },
  {
   "cell_type": "code",
   "execution_count": null,
   "metadata": {},
   "outputs": [],
   "source": []
  }
 ],
 "metadata": {
  "kernelspec": {
   "display_name": "Python 3",
   "language": "python",
   "name": "python3"
  },
  "language_info": {
   "codemirror_mode": {
    "name": "ipython",
    "version": 3
   },
   "file_extension": ".py",
   "mimetype": "text/x-python",
   "name": "python",
   "nbconvert_exporter": "python",
   "pygments_lexer": "ipython3",
   "version": "3.6.5"
  }
 },
 "nbformat": 4,
 "nbformat_minor": 2
}
