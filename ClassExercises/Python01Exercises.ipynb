{
 "cells": [
  {
   "cell_type": "markdown",
   "metadata": {},
   "source": [
    "Consider the [list of Python built-in functions](https://docs.python.org/3/library/functions.html) and complete the following exercises\n"
   ]
  },
  {
   "cell_type": "code",
   "execution_count": null,
   "metadata": {},
   "outputs": [],
   "source": [
    "a = 7\n",
    "b = 3\n",
    "# write the code that return the highest value between a and b\n"
   ]
  },
  {
   "cell_type": "code",
   "execution_count": null,
   "metadata": {},
   "outputs": [],
   "source": [
    "c = a*b-b**2\n",
    "# write the code that return the lowest value between a, b and c\n"
   ]
  },
  {
   "cell_type": "code",
   "execution_count": null,
   "metadata": {},
   "outputs": [],
   "source": [
    "# write the code that returns the quotient and remainder of a devided by b\n"
   ]
  },
  {
   "cell_type": "code",
   "execution_count": null,
   "metadata": {},
   "outputs": [],
   "source": [
    "phrase = \"Hi there!\"\n",
    "# Write the code that returns the length of the string phrase\n"
   ]
  },
  {
   "cell_type": "code",
   "execution_count": null,
   "metadata": {},
   "outputs": [],
   "source": [
    "# write the code that asks the user to enter a phrase (input) and returns its length\n"
   ]
  },
  {
   "cell_type": "code",
   "execution_count": null,
   "metadata": {},
   "outputs": [],
   "source": [
    "# Here is an example of how you can print something\n",
    "print(\"a =\",a,\"and b =\",b,\"We also have the value\",c,\"stored in variable <c>\")"
   ]
  },
  {
   "cell_type": "code",
   "execution_count": null,
   "metadata": {},
   "outputs": [],
   "source": [
    "# write the code that asks the user to enter a phrase (input) and prints (print)\n",
    "# < the phrase in triangular brackets > is <the length of the phrase> long\n",
    "# for example, if the user enters \"hi there\", the code would print: < hi there > is 8 characters long. \n"
   ]
  },
  {
   "cell_type": "markdown",
   "metadata": {},
   "source": [
    "By default, the function *print* separates each one of its arguments with a white space when printing.\n",
    "Assume that, in the example above, you do not want any space between the triangular bracket and the phrase.\n",
    "Read the documentation [list of Python built-in functions](https://docs.python.org/3/library/functions.html) and see if you can find out how to do it."
   ]
  },
  {
   "cell_type": "code",
   "execution_count": null,
   "metadata": {},
   "outputs": [],
   "source": []
  }
 ],
 "metadata": {
  "kernelspec": {
   "display_name": "Python 3",
   "language": "python",
   "name": "python3"
  },
  "language_info": {
   "codemirror_mode": {
    "name": "ipython",
    "version": 3
   },
   "file_extension": ".py",
   "mimetype": "text/x-python",
   "name": "python",
   "nbconvert_exporter": "python",
   "pygments_lexer": "ipython3",
   "version": "3.6.5"
  }
 },
 "nbformat": 4,
 "nbformat_minor": 2
}
