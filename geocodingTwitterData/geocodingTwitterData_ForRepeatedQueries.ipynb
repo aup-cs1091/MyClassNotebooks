{
 "cells": [
  {
   "cell_type": "markdown",
   "metadata": {},
   "source": [
    "# Geocoding data with Python and Open Street Map - Improved version for multiple repeated queries\n",
    "\n",
    "Nominatim only allows a limited number of queries and when you have a large dataFrame to geolocate you may not be able to do it because you are sending to many requests and Nominatim stops responding (even worse, it blocks you from sending any queries for a few hours).\n",
    "Our current code, not only interrogates Nominatim for each row in the dataFrame irrespective of the fact that locations are repeated several times in the table, but it also interrogates Nominatim twice for each row, once to get the longitute and one to get the latitude.\n",
    "We will fix this problem by doing the following:\n",
    "\n",
    "- first we create a dataFrame containing only and all the individual locations\n",
    "- then we send Nominatim queries only once per location and geocode each location\n",
    "- finally, we merge the information about the geocoding in our original dataFrame\n",
    "\n",
    "A second improvement is to pass our email as a parameter of the query. This tells Nominatim that we are not a robot, making it less likely that we end up being black-listed"
   ]
  },
  {
   "cell_type": "code",
   "execution_count": null,
   "metadata": {},
   "outputs": [],
   "source": [
    "import pandas as pd\n",
    "import requests\n",
    "import json\n",
    "\n",
    "# url to access geolocation data\n",
    "url = 'https://nominatim.openstreetmap.org/search'"
   ]
  },
  {
   "cell_type": "code",
   "execution_count": null,
   "metadata": {},
   "outputs": [],
   "source": [
    "# Read the csv file with the clean Twitter data\n",
    "df=pd.read_csv('cleanDataFromTwitter.txt')"
   ]
  },
  {
   "cell_type": "markdown",
   "metadata": {},
   "source": [
    "In the previous example we had a call to nominatim for each one of the entries in the table. However, although we have 71 rows, we only have fewer individual locations (see next two commands)"
   ]
  },
  {
   "cell_type": "code",
   "execution_count": null,
   "metadata": {},
   "outputs": [],
   "source": [
    "df"
   ]
  },
  {
   "cell_type": "code",
   "execution_count": null,
   "metadata": {},
   "outputs": [],
   "source": [
    "df['location'].unique()"
   ]
  },
  {
   "cell_type": "code",
   "execution_count": null,
   "metadata": {},
   "outputs": [],
   "source": [
    "# we build an array of individual locations (loc) \n",
    "# and then a dataFrame with just one colum with the locations\n",
    "loc = df['location'].unique()\n",
    "loc_df = pd.DataFrame(loc,columns=['location'])\n",
    "loc_df"
   ]
  },
  {
   "cell_type": "markdown",
   "metadata": {},
   "source": [
    "We define a lambda function that returns the geocoding in json format\n",
    "*** make sure you change the email address to yours ***"
   ]
  },
  {
   "cell_type": "code",
   "execution_count": null,
   "metadata": {},
   "outputs": [],
   "source": [
    "json_loc = lambda x: requests.get(url, params={'q': x, 'format': 'json', 'email':'croda@aup.edu'}).json()"
   ]
  },
  {
   "cell_type": "code",
   "execution_count": null,
   "metadata": {},
   "outputs": [],
   "source": [
    "# example of a simple call to the lambda function\n",
    "json_loc('texas')"
   ]
  },
  {
   "cell_type": "markdown",
   "metadata": {},
   "source": [
    "We apply the lambda functions to the dataFrame containing the individual locations"
   ]
  },
  {
   "cell_type": "code",
   "execution_count": null,
   "metadata": {},
   "outputs": [],
   "source": [
    "loc_df['jason_loc']=loc_df['location'].apply(json_loc)"
   ]
  },
  {
   "cell_type": "code",
   "execution_count": null,
   "metadata": {},
   "outputs": [],
   "source": [
    "# this is what it contains\n",
    "loc_df"
   ]
  },
  {
   "cell_type": "markdown",
   "metadata": {},
   "source": [
    "We can create a column that tells us how many locations Nominatim found with the name we gave"
   ]
  },
  {
   "cell_type": "code",
   "execution_count": null,
   "metadata": {},
   "outputs": [],
   "source": [
    "# explanation only\n",
    "loc_df['NumberOfLocationsFound']=loc_df['jason_loc'].apply(len)\n",
    "loc_df"
   ]
  },
  {
   "cell_type": "markdown",
   "metadata": {},
   "source": [
    "Although Nominatim finds several results for each name we provide, we will assume that the first location found is the correct one.\n",
    "We write two functions that respectively retrieve the latitude and longitude of each location"
   ]
  },
  {
   "cell_type": "code",
   "execution_count": null,
   "metadata": {},
   "outputs": [],
   "source": [
    "# retrieve the latitude of the first location from the json output of nominatim\n",
    "def getLat(x) :\n",
    "    # check that at least one location has been found\n",
    "    if len(x)>0 : \n",
    "        # return the latitude of the first location (the location in position 0)\n",
    "        return x[0]['lat'] \n",
    "    # otherwise (if no location has been found) \n",
    "    else : \n",
    "        return 'NaN'"
   ]
  },
  {
   "cell_type": "code",
   "execution_count": null,
   "metadata": {},
   "outputs": [],
   "source": [
    "# retrieve the longitude of the first location from the json output of nominatim\n",
    "def getLon(x) :\n",
    "    # check that at least one location has been found\n",
    "    if len(x)>0 : \n",
    "        # return the longitude of the first location (the location in position 0)\n",
    "        return x[0]['lon'] \n",
    "    # otherwise (if no location has been found) \n",
    "    else : \n",
    "        return 'NaN'"
   ]
  },
  {
   "cell_type": "markdown",
   "metadata": {},
   "source": [
    "Now we apply the two functions to our table of locations"
   ]
  },
  {
   "cell_type": "code",
   "execution_count": null,
   "metadata": {},
   "outputs": [],
   "source": [
    "loc_df['lat']=loc_df['jason_loc'].apply(getLat)\n",
    "loc_df['lon']=loc_df['jason_loc'].apply(getLon)\n",
    "loc_df"
   ]
  },
  {
   "cell_type": "markdown",
   "metadata": {},
   "source": [
    "Finally we use our loc_df dataframe to geolocate all items in our original dataFrame.\n",
    "There are several ways to do this, for those of you familiar with excel vlookup may find [this explanation](https://towardsdatascience.com/name-your-favorite-excel-function-and-ill-teach-you-its-pandas-equivalent-7ee4400ada9f) useful"
   ]
  },
  {
   "cell_type": "code",
   "execution_count": null,
   "metadata": {},
   "outputs": [],
   "source": [
    "df['lat']=df.location.map(loc_df.set_index('location')['lat'].to_dict())\n",
    "df['lon']=df.location.map(loc_df.set_index('location')['lon'].to_dict())\n",
    "df"
   ]
  },
  {
   "cell_type": "markdown",
   "metadata": {},
   "source": [
    "There is one column that has been added and we want to remove; this is what we do next"
   ]
  },
  {
   "cell_type": "code",
   "execution_count": null,
   "metadata": {},
   "outputs": [],
   "source": [
    "# remove the Unnamed: 0 column\n",
    "df.drop(['Unnamed: 0'], inplace=True, axis=1)\n",
    "df"
   ]
  },
  {
   "cell_type": "markdown",
   "metadata": {},
   "source": [
    "### And we save the data in a file so we can import them in QGIS"
   ]
  },
  {
   "cell_type": "code",
   "execution_count": null,
   "metadata": {},
   "outputs": [],
   "source": [
    "f = open(\"geocodedTwitterData_V2.csv\", \"w\")\n",
    "f.write(df.to_csv(index=False))\n",
    "f.close()"
   ]
  },
  {
   "cell_type": "code",
   "execution_count": null,
   "metadata": {},
   "outputs": [],
   "source": []
  }
 ],
 "metadata": {
  "kernelspec": {
   "display_name": "Python 3",
   "language": "python",
   "name": "python3"
  },
  "language_info": {
   "codemirror_mode": {
    "name": "ipython",
    "version": 3
   },
   "file_extension": ".py",
   "mimetype": "text/x-python",
   "name": "python",
   "nbconvert_exporter": "python",
   "pygments_lexer": "ipython3",
   "version": "3.6.5"
  }
 },
 "nbformat": 4,
 "nbformat_minor": 2
}
