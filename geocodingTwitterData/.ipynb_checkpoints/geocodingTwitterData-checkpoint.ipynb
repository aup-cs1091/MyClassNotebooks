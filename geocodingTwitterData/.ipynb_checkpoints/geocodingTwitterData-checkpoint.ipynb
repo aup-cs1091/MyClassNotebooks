{
 "cells": [
  {
   "cell_type": "markdown",
   "metadata": {},
   "source": [
    "# Geocoding data with Python and Open Street Map\n",
    "## With this example you will also learn how to read and save csv files\n",
    "In this section we will geocode the data we have collected from twitter using the [Twitter interface](https://jhub.aup.edu/hub/user-redirect/git-pull?repo=https://github.com/aup-cs1091/MyClassNotebooks&branch=master&subPath=TwitterInterface) and cleaned with a [simple data cleaning procedure](https://jhub.aup.edu/hub/user-redirect/git-pull?repo=https://github.com/aup-cs1091/MyClassNotebooks&branch=master&subPath=CleaningData). You can find the clean data in the same folder as this file.\n",
    "In order to understand this code, you should review the [section on geocoding with Open Stree Map](https://jhub.aup.edu/hub/user-redirect/git-pull?repo=https://github.com/aup-cs1091/MyClassNotebooks&branch=master&subPath=geocoding/SimpleGeocodingWithOpenStreetMap.ipynb) and the section on [Pandas DataFrames](https://jhub.aup.edu/hub/user-redirect/git-pull?repo=https://github.com/aup-cs1091/MyClassNotebooks&branch=master&subPath=PandasDataFrames.ipynb), in particular the last example showing the use of lambda functions."
   ]
  },
  {
   "cell_type": "code",
   "execution_count": 88,
   "metadata": {},
   "outputs": [],
   "source": [
    "import pandas as pd\n",
    "import requests\n",
    "import json\n",
    "\n",
    "# url to access geolocation data\n",
    "url = 'https://nominatim.openstreetmap.org/search'"
   ]
  },
  {
   "cell_type": "code",
   "execution_count": 89,
   "metadata": {},
   "outputs": [
    {
     "data": {
      "text/html": [
       "<div>\n",
       "<style scoped>\n",
       "    .dataframe tbody tr th:only-of-type {\n",
       "        vertical-align: middle;\n",
       "    }\n",
       "\n",
       "    .dataframe tbody tr th {\n",
       "        vertical-align: top;\n",
       "    }\n",
       "\n",
       "    .dataframe thead th {\n",
       "        text-align: right;\n",
       "    }\n",
       "</style>\n",
       "<table border=\"1\" class=\"dataframe\">\n",
       "  <thead>\n",
       "    <tr style=\"text-align: right;\">\n",
       "      <th></th>\n",
       "      <th>Unnamed: 0</th>\n",
       "      <th>screen_name</th>\n",
       "      <th>name</th>\n",
       "      <th>followers_count</th>\n",
       "      <th>location</th>\n",
       "    </tr>\n",
       "  </thead>\n",
       "  <tbody>\n",
       "    <tr>\n",
       "      <th>0</th>\n",
       "      <td>0</td>\n",
       "      <td>TuckerCarlson</td>\n",
       "      <td>Tucker Carlson</td>\n",
       "      <td>1064787</td>\n",
       "      <td>Washington, DC</td>\n",
       "    </tr>\n",
       "    <tr>\n",
       "      <th>1</th>\n",
       "      <td>3</td>\n",
       "      <td>WhiteHouse</td>\n",
       "      <td>The White House</td>\n",
       "      <td>15327283</td>\n",
       "      <td>Washington, DC</td>\n",
       "    </tr>\n",
       "    <tr>\n",
       "      <th>2</th>\n",
       "      <td>5</td>\n",
       "      <td>KellyannePolls</td>\n",
       "      <td>Kellyanne Conway</td>\n",
       "      <td>1664393</td>\n",
       "      <td>Washington, DC</td>\n",
       "    </tr>\n",
       "    <tr>\n",
       "      <th>3</th>\n",
       "      <td>6</td>\n",
       "      <td>Reince</td>\n",
       "      <td>Reince Priebus</td>\n",
       "      <td>941927</td>\n",
       "      <td>Kenosha, WI</td>\n",
       "    </tr>\n",
       "    <tr>\n",
       "      <th>4</th>\n",
       "      <td>10</td>\n",
       "      <td>RealRomaDowney</td>\n",
       "      <td>Roma Downey</td>\n",
       "      <td>192126</td>\n",
       "      <td>Malibu</td>\n",
       "    </tr>\n",
       "  </tbody>\n",
       "</table>\n",
       "</div>"
      ],
      "text/plain": [
       "   Unnamed: 0     screen_name              name  followers_count  \\\n",
       "0           0   TuckerCarlson    Tucker Carlson          1064787   \n",
       "1           3      WhiteHouse   The White House         15327283   \n",
       "2           5  KellyannePolls  Kellyanne Conway          1664393   \n",
       "3           6          Reince    Reince Priebus           941927   \n",
       "4          10  RealRomaDowney       Roma Downey           192126   \n",
       "\n",
       "         location  \n",
       "0  Washington, DC  \n",
       "1  Washington, DC  \n",
       "2  Washington, DC  \n",
       "3     Kenosha, WI  \n",
       "4          Malibu  "
      ]
     },
     "execution_count": 89,
     "metadata": {},
     "output_type": "execute_result"
    }
   ],
   "source": [
    "# Read the csv file with the clean Twitter data\n",
    "df=pd.read_csv('cleanDataFromTwitter.txt')\n",
    "df.head()"
   ]
  },
  {
   "cell_type": "markdown",
   "metadata": {},
   "source": [
    "### We have seen that the following code allows us to query OpenStreetMap\n",
    "![alt text](geocodingWithOpenStreetMap.png \"OpenStreetMap geocoding example\")\n",
    "### Following the example of this code, we create two lambda functions that we will apply to each location in the dataFrame to geocode each one of the locations"
   ]
  },
  {
   "cell_type": "code",
   "execution_count": 90,
   "metadata": {},
   "outputs": [],
   "source": [
    "# Based on the code we have seen in geocoding, we define two lambda functions to access latitude and longitude\n",
    "getLat = lambda x: requests.get(url, params={'q': x, 'format': 'json'}).json()[0]['lat']\n",
    "getLon = lambda x: requests.get(url, params={'q': x, 'format': 'json'}).json()[0]['lon']"
   ]
  },
  {
   "cell_type": "code",
   "execution_count": 91,
   "metadata": {},
   "outputs": [
    {
     "data": {
      "text/plain": [
       "'38.8950092'"
      ]
     },
     "execution_count": 91,
     "metadata": {},
     "output_type": "execute_result"
    }
   ],
   "source": [
    "# Example of how getLat works\n",
    "getLat('Washington, DC')"
   ]
  },
  {
   "cell_type": "code",
   "execution_count": 92,
   "metadata": {},
   "outputs": [
    {
     "data": {
      "text/plain": [
       "'-77.0365625'"
      ]
     },
     "execution_count": 92,
     "metadata": {},
     "output_type": "execute_result"
    }
   ],
   "source": [
    "# Example of how getLon works\n",
    "getLon('Washington, DC')"
   ]
  },
  {
   "cell_type": "markdown",
   "metadata": {},
   "source": [
    "### Before applying the lambda functions to the clean twitter data, we verify that it works on a simple DataFrame"
   ]
  },
  {
   "cell_type": "code",
   "execution_count": 93,
   "metadata": {},
   "outputs": [
    {
     "data": {
      "text/html": [
       "<div>\n",
       "<style scoped>\n",
       "    .dataframe tbody tr th:only-of-type {\n",
       "        vertical-align: middle;\n",
       "    }\n",
       "\n",
       "    .dataframe tbody tr th {\n",
       "        vertical-align: top;\n",
       "    }\n",
       "\n",
       "    .dataframe thead th {\n",
       "        text-align: right;\n",
       "    }\n",
       "</style>\n",
       "<table border=\"1\" class=\"dataframe\">\n",
       "  <thead>\n",
       "    <tr style=\"text-align: right;\">\n",
       "      <th></th>\n",
       "      <th>year</th>\n",
       "      <th>semester</th>\n",
       "      <th>location</th>\n",
       "    </tr>\n",
       "  </thead>\n",
       "  <tbody>\n",
       "    <tr>\n",
       "      <th>0</th>\n",
       "      <td>2016</td>\n",
       "      <td>Spring</td>\n",
       "      <td>Washington, DC</td>\n",
       "    </tr>\n",
       "    <tr>\n",
       "      <th>1</th>\n",
       "      <td>2016</td>\n",
       "      <td>fall</td>\n",
       "      <td>Kenosha, WI</td>\n",
       "    </tr>\n",
       "    <tr>\n",
       "      <th>2</th>\n",
       "      <td>2017</td>\n",
       "      <td>Spring</td>\n",
       "      <td>Malibu</td>\n",
       "    </tr>\n",
       "    <tr>\n",
       "      <th>3</th>\n",
       "      <td>2017</td>\n",
       "      <td>fall</td>\n",
       "      <td>New York, NY</td>\n",
       "    </tr>\n",
       "    <tr>\n",
       "      <th>4</th>\n",
       "      <td>2018</td>\n",
       "      <td>Spring</td>\n",
       "      <td>Washington, DC</td>\n",
       "    </tr>\n",
       "    <tr>\n",
       "      <th>5</th>\n",
       "      <td>2018</td>\n",
       "      <td>fall</td>\n",
       "      <td>Kenosha, WI</td>\n",
       "    </tr>\n",
       "    <tr>\n",
       "      <th>6</th>\n",
       "      <td>2019</td>\n",
       "      <td>Spring</td>\n",
       "      <td>Malibu</td>\n",
       "    </tr>\n",
       "  </tbody>\n",
       "</table>\n",
       "</div>"
      ],
      "text/plain": [
       "   year semester        location\n",
       "0  2016   Spring  Washington, DC\n",
       "1  2016     fall     Kenosha, WI\n",
       "2  2017   Spring          Malibu\n",
       "3  2017     fall    New York, NY\n",
       "4  2018   Spring  Washington, DC\n",
       "5  2018     fall     Kenosha, WI\n",
       "6  2019   Spring          Malibu"
      ]
     },
     "execution_count": 93,
     "metadata": {},
     "output_type": "execute_result"
    }
   ],
   "source": [
    "# We build the dataFrame\n",
    "U_Games={'year':[2016, 2016, 2017, 2017, 2018, 2018, 2019],\n",
    "        'semester': ['Spring', 'fall', 'Spring', 'fall', 'Spring', 'fall', 'Spring'],\n",
    "        'location': ['Washington, DC', 'Kenosha, WI', 'Malibu', 'New York, NY', 'Washington, DC', 'Kenosha, WI', 'Malibu']}\n",
    "df1 = pd.DataFrame(data=U_Games)\n",
    "df1"
   ]
  },
  {
   "cell_type": "code",
   "execution_count": 94,
   "metadata": {},
   "outputs": [
    {
     "data": {
      "text/plain": [
       "0    38.8950092\n",
       "1    42.5846773\n",
       "2     34.035591\n",
       "3    40.7308619\n",
       "4    38.8950092\n",
       "5    42.5846773\n",
       "6     34.035591\n",
       "Name: location, dtype: object"
      ]
     },
     "execution_count": 94,
     "metadata": {},
     "output_type": "execute_result"
    }
   ],
   "source": [
    "# We apply the lambda function getLat to the column location\n",
    "df1['location'].apply(getLat)\n",
    "\n",
    "# an alternative way to do the same thing\n",
    "#df1['location'].map(getLat)"
   ]
  },
  {
   "cell_type": "code",
   "execution_count": 95,
   "metadata": {},
   "outputs": [
    {
     "data": {
      "text/html": [
       "<div>\n",
       "<style scoped>\n",
       "    .dataframe tbody tr th:only-of-type {\n",
       "        vertical-align: middle;\n",
       "    }\n",
       "\n",
       "    .dataframe tbody tr th {\n",
       "        vertical-align: top;\n",
       "    }\n",
       "\n",
       "    .dataframe thead th {\n",
       "        text-align: right;\n",
       "    }\n",
       "</style>\n",
       "<table border=\"1\" class=\"dataframe\">\n",
       "  <thead>\n",
       "    <tr style=\"text-align: right;\">\n",
       "      <th></th>\n",
       "      <th>year</th>\n",
       "      <th>semester</th>\n",
       "      <th>location</th>\n",
       "      <th>lat</th>\n",
       "    </tr>\n",
       "  </thead>\n",
       "  <tbody>\n",
       "    <tr>\n",
       "      <th>0</th>\n",
       "      <td>2016</td>\n",
       "      <td>Spring</td>\n",
       "      <td>Washington, DC</td>\n",
       "      <td>38.8950092</td>\n",
       "    </tr>\n",
       "    <tr>\n",
       "      <th>1</th>\n",
       "      <td>2016</td>\n",
       "      <td>fall</td>\n",
       "      <td>Kenosha, WI</td>\n",
       "      <td>42.5846773</td>\n",
       "    </tr>\n",
       "    <tr>\n",
       "      <th>2</th>\n",
       "      <td>2017</td>\n",
       "      <td>Spring</td>\n",
       "      <td>Malibu</td>\n",
       "      <td>34.035591</td>\n",
       "    </tr>\n",
       "    <tr>\n",
       "      <th>3</th>\n",
       "      <td>2017</td>\n",
       "      <td>fall</td>\n",
       "      <td>New York, NY</td>\n",
       "      <td>40.7308619</td>\n",
       "    </tr>\n",
       "    <tr>\n",
       "      <th>4</th>\n",
       "      <td>2018</td>\n",
       "      <td>Spring</td>\n",
       "      <td>Washington, DC</td>\n",
       "      <td>38.8950092</td>\n",
       "    </tr>\n",
       "    <tr>\n",
       "      <th>5</th>\n",
       "      <td>2018</td>\n",
       "      <td>fall</td>\n",
       "      <td>Kenosha, WI</td>\n",
       "      <td>42.5846773</td>\n",
       "    </tr>\n",
       "    <tr>\n",
       "      <th>6</th>\n",
       "      <td>2019</td>\n",
       "      <td>Spring</td>\n",
       "      <td>Malibu</td>\n",
       "      <td>34.035591</td>\n",
       "    </tr>\n",
       "  </tbody>\n",
       "</table>\n",
       "</div>"
      ],
      "text/plain": [
       "   year semester        location         lat\n",
       "0  2016   Spring  Washington, DC  38.8950092\n",
       "1  2016     fall     Kenosha, WI  42.5846773\n",
       "2  2017   Spring          Malibu   34.035591\n",
       "3  2017     fall    New York, NY  40.7308619\n",
       "4  2018   Spring  Washington, DC  38.8950092\n",
       "5  2018     fall     Kenosha, WI  42.5846773\n",
       "6  2019   Spring          Malibu   34.035591"
      ]
     },
     "execution_count": 95,
     "metadata": {},
     "output_type": "execute_result"
    }
   ],
   "source": [
    "# We add a column with the latitude\n",
    "df1['lat']=df1['location'].apply(getLat)\n",
    "df1"
   ]
  },
  {
   "cell_type": "code",
   "execution_count": 96,
   "metadata": {},
   "outputs": [
    {
     "data": {
      "text/html": [
       "<div>\n",
       "<style scoped>\n",
       "    .dataframe tbody tr th:only-of-type {\n",
       "        vertical-align: middle;\n",
       "    }\n",
       "\n",
       "    .dataframe tbody tr th {\n",
       "        vertical-align: top;\n",
       "    }\n",
       "\n",
       "    .dataframe thead th {\n",
       "        text-align: right;\n",
       "    }\n",
       "</style>\n",
       "<table border=\"1\" class=\"dataframe\">\n",
       "  <thead>\n",
       "    <tr style=\"text-align: right;\">\n",
       "      <th></th>\n",
       "      <th>year</th>\n",
       "      <th>semester</th>\n",
       "      <th>location</th>\n",
       "      <th>lat</th>\n",
       "      <th>lon</th>\n",
       "    </tr>\n",
       "  </thead>\n",
       "  <tbody>\n",
       "    <tr>\n",
       "      <th>0</th>\n",
       "      <td>2016</td>\n",
       "      <td>Spring</td>\n",
       "      <td>Washington, DC</td>\n",
       "      <td>38.8950092</td>\n",
       "      <td>-77.0365625</td>\n",
       "    </tr>\n",
       "    <tr>\n",
       "      <th>1</th>\n",
       "      <td>2016</td>\n",
       "      <td>fall</td>\n",
       "      <td>Kenosha, WI</td>\n",
       "      <td>42.5846773</td>\n",
       "      <td>-87.8212263</td>\n",
       "    </tr>\n",
       "    <tr>\n",
       "      <th>2</th>\n",
       "      <td>2017</td>\n",
       "      <td>Spring</td>\n",
       "      <td>Malibu</td>\n",
       "      <td>34.035591</td>\n",
       "      <td>-118.689423</td>\n",
       "    </tr>\n",
       "    <tr>\n",
       "      <th>3</th>\n",
       "      <td>2017</td>\n",
       "      <td>fall</td>\n",
       "      <td>New York, NY</td>\n",
       "      <td>40.7308619</td>\n",
       "      <td>-73.9871558</td>\n",
       "    </tr>\n",
       "    <tr>\n",
       "      <th>4</th>\n",
       "      <td>2018</td>\n",
       "      <td>Spring</td>\n",
       "      <td>Washington, DC</td>\n",
       "      <td>38.8950092</td>\n",
       "      <td>-77.0365625</td>\n",
       "    </tr>\n",
       "    <tr>\n",
       "      <th>5</th>\n",
       "      <td>2018</td>\n",
       "      <td>fall</td>\n",
       "      <td>Kenosha, WI</td>\n",
       "      <td>42.5846773</td>\n",
       "      <td>-87.8212263</td>\n",
       "    </tr>\n",
       "    <tr>\n",
       "      <th>6</th>\n",
       "      <td>2019</td>\n",
       "      <td>Spring</td>\n",
       "      <td>Malibu</td>\n",
       "      <td>34.035591</td>\n",
       "      <td>-118.689423</td>\n",
       "    </tr>\n",
       "  </tbody>\n",
       "</table>\n",
       "</div>"
      ],
      "text/plain": [
       "   year semester        location         lat          lon\n",
       "0  2016   Spring  Washington, DC  38.8950092  -77.0365625\n",
       "1  2016     fall     Kenosha, WI  42.5846773  -87.8212263\n",
       "2  2017   Spring          Malibu   34.035591  -118.689423\n",
       "3  2017     fall    New York, NY  40.7308619  -73.9871558\n",
       "4  2018   Spring  Washington, DC  38.8950092  -77.0365625\n",
       "5  2018     fall     Kenosha, WI  42.5846773  -87.8212263\n",
       "6  2019   Spring          Malibu   34.035591  -118.689423"
      ]
     },
     "execution_count": 96,
     "metadata": {},
     "output_type": "execute_result"
    }
   ],
   "source": [
    "# We also add a column with the longitude\n",
    "df1['lon']=df1['location'].apply(getLon)\n",
    "df1"
   ]
  },
  {
   "cell_type": "markdown",
   "metadata": {},
   "source": [
    "### Applying the lambda function to the clean twitter data does not work ... we need more cleaning"
   ]
  },
  {
   "cell_type": "code",
   "execution_count": null,
   "metadata": {},
   "outputs": [],
   "source": [
    "# if we try to apply the getLat function to the twitter data we have an error\n",
    "df['location'].apply(getLat)"
   ]
  },
  {
   "cell_type": "code",
   "execution_count": 98,
   "metadata": {},
   "outputs": [
    {
     "data": {
      "text/plain": [
       "1      Washington, DC\n",
       "2      Washington, DC\n",
       "3         Kenosha, WI\n",
       "4              Malibu\n",
       "5        New York, NY\n",
       "6      Washington, DC\n",
       "7                 USA\n",
       "8                 USA\n",
       "9        New York, NY\n",
       "10       New York, NY\n",
       "11     Washington, DC\n",
       "12    Los Angeles, CA\n",
       "13                USA\n",
       "14       Peace Within\n",
       "Name: location, dtype: object"
      ]
     },
     "execution_count": 98,
     "metadata": {},
     "output_type": "execute_result"
    }
   ],
   "source": [
    "# There is something wrong with the data, with some exploration we find two rows that cannot be geolocated\n",
    "# Here is an example of the exploration procedure\n",
    "df[1:14]['location'].apply(getLat)\n",
    "df[1:15]['location']"
   ]
  },
  {
   "cell_type": "code",
   "execution_count": 99,
   "metadata": {},
   "outputs": [],
   "source": [
    "# we drop lines 14 and 52\n",
    "df=df.drop([14,52])"
   ]
  },
  {
   "cell_type": "markdown",
   "metadata": {},
   "source": [
    "### Finally we can apply the lambda functions to our data"
   ]
  },
  {
   "cell_type": "code",
   "execution_count": null,
   "metadata": {},
   "outputs": [],
   "source": [
    "df['lat']=df['location'].apply(getLat)\n",
    "df['lon']=df['location'].apply(getLon)"
   ]
  },
  {
   "cell_type": "code",
   "execution_count": 103,
   "metadata": {},
   "outputs": [
    {
     "data": {
      "text/html": [
       "<div>\n",
       "<style scoped>\n",
       "    .dataframe tbody tr th:only-of-type {\n",
       "        vertical-align: middle;\n",
       "    }\n",
       "\n",
       "    .dataframe tbody tr th {\n",
       "        vertical-align: top;\n",
       "    }\n",
       "\n",
       "    .dataframe thead th {\n",
       "        text-align: right;\n",
       "    }\n",
       "</style>\n",
       "<table border=\"1\" class=\"dataframe\">\n",
       "  <thead>\n",
       "    <tr style=\"text-align: right;\">\n",
       "      <th></th>\n",
       "      <th>Unnamed: 0</th>\n",
       "      <th>screen_name</th>\n",
       "      <th>name</th>\n",
       "      <th>followers_count</th>\n",
       "      <th>location</th>\n",
       "      <th>lat</th>\n",
       "      <th>lon</th>\n",
       "    </tr>\n",
       "  </thead>\n",
       "  <tbody>\n",
       "    <tr>\n",
       "      <th>0</th>\n",
       "      <td>0</td>\n",
       "      <td>TuckerCarlson</td>\n",
       "      <td>Tucker Carlson</td>\n",
       "      <td>1064787</td>\n",
       "      <td>Washington, DC</td>\n",
       "      <td>38.8950092</td>\n",
       "      <td>-77.0365625</td>\n",
       "    </tr>\n",
       "    <tr>\n",
       "      <th>1</th>\n",
       "      <td>3</td>\n",
       "      <td>WhiteHouse</td>\n",
       "      <td>The White House</td>\n",
       "      <td>15327283</td>\n",
       "      <td>Washington, DC</td>\n",
       "      <td>38.8950092</td>\n",
       "      <td>-77.0365625</td>\n",
       "    </tr>\n",
       "    <tr>\n",
       "      <th>2</th>\n",
       "      <td>5</td>\n",
       "      <td>KellyannePolls</td>\n",
       "      <td>Kellyanne Conway</td>\n",
       "      <td>1664393</td>\n",
       "      <td>Washington, DC</td>\n",
       "      <td>38.8950092</td>\n",
       "      <td>-77.0365625</td>\n",
       "    </tr>\n",
       "    <tr>\n",
       "      <th>3</th>\n",
       "      <td>6</td>\n",
       "      <td>Reince</td>\n",
       "      <td>Reince Priebus</td>\n",
       "      <td>941927</td>\n",
       "      <td>Kenosha, WI</td>\n",
       "      <td>42.5846773</td>\n",
       "      <td>-87.8212263</td>\n",
       "    </tr>\n",
       "    <tr>\n",
       "      <th>4</th>\n",
       "      <td>10</td>\n",
       "      <td>RealRomaDowney</td>\n",
       "      <td>Roma Downey</td>\n",
       "      <td>192126</td>\n",
       "      <td>Malibu</td>\n",
       "      <td>34.035591</td>\n",
       "      <td>-118.689423</td>\n",
       "    </tr>\n",
       "  </tbody>\n",
       "</table>\n",
       "</div>"
      ],
      "text/plain": [
       "   Unnamed: 0     screen_name              name  followers_count  \\\n",
       "0           0   TuckerCarlson    Tucker Carlson          1064787   \n",
       "1           3      WhiteHouse   The White House         15327283   \n",
       "2           5  KellyannePolls  Kellyanne Conway          1664393   \n",
       "3           6          Reince    Reince Priebus           941927   \n",
       "4          10  RealRomaDowney       Roma Downey           192126   \n",
       "\n",
       "         location         lat          lon  \n",
       "0  Washington, DC  38.8950092  -77.0365625  \n",
       "1  Washington, DC  38.8950092  -77.0365625  \n",
       "2  Washington, DC  38.8950092  -77.0365625  \n",
       "3     Kenosha, WI  42.5846773  -87.8212263  \n",
       "4          Malibu   34.035591  -118.689423  "
      ]
     },
     "execution_count": 103,
     "metadata": {},
     "output_type": "execute_result"
    }
   ],
   "source": [
    "df.head()"
   ]
  },
  {
   "cell_type": "markdown",
   "metadata": {},
   "source": [
    "### And we save the data in a file so we can import them in QGIS"
   ]
  },
  {
   "cell_type": "code",
   "execution_count": 104,
   "metadata": {},
   "outputs": [],
   "source": [
    "f = open(\"geocodedTwitterData.csv\", \"w\")\n",
    "f.write(df.to_csv(index=False))\n",
    "f.close()"
   ]
  }
 ],
 "metadata": {
  "kernelspec": {
   "display_name": "Python 3",
   "language": "python",
   "name": "python3"
  },
  "language_info": {
   "codemirror_mode": {
    "name": "ipython",
    "version": 3
   },
   "file_extension": ".py",
   "mimetype": "text/x-python",
   "name": "python",
   "nbconvert_exporter": "python",
   "pygments_lexer": "ipython3",
   "version": "3.6.5"
  }
 },
 "nbformat": 4,
 "nbformat_minor": 2
}
