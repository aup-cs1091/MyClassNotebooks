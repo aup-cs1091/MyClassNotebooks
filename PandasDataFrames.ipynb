{
 "cells": [
  {
   "cell_type": "code",
   "execution_count": null,
   "metadata": {},
   "outputs": [],
   "source": [
    "import pandas as pd"
   ]
  },
  {
   "cell_type": "code",
   "execution_count": null,
   "metadata": {},
   "outputs": [],
   "source": [
    "# Constructing dataFrame from a data structure (dictionary)\n",
    "cs1040={'year':[2016, 2016, 2017, 2017, 2018, 2018, 2019],\n",
    "        'semester': ['Spring', 'fall', 'Spring', 'fall', 'Spring', 'fall', 'Spring'],\n",
    "        'avg_grade': [3.0, 2.8, 3.2, 3.1, 3.4, 3.0, 3.5]}\n",
    "cs1040_df = pd.DataFrame(data=cs1040)\n",
    "cs1040_df"
   ]
  },
  {
   "cell_type": "code",
   "execution_count": null,
   "metadata": {},
   "outputs": [],
   "source": [
    "# looking at the beginning of the dataFrame\n",
    "cs1040_df.head(2)"
   ]
  },
  {
   "cell_type": "code",
   "execution_count": null,
   "metadata": {},
   "outputs": [],
   "source": [
    "# looking at the end of the dataFrame\n",
    "cs1040_df.tail()"
   ]
  },
  {
   "cell_type": "code",
   "execution_count": null,
   "metadata": {},
   "outputs": [],
   "source": [
    "# descriptive statistics for numerical columns\n",
    "cs1040_df.describe()"
   ]
  },
  {
   "cell_type": "code",
   "execution_count": null,
   "metadata": {},
   "outputs": [],
   "source": [
    "# Select one column\n",
    "cs1040_df['avg_grade']"
   ]
  },
  {
   "cell_type": "code",
   "execution_count": null,
   "metadata": {},
   "outputs": [],
   "source": [
    "# Select several columns\n",
    "cs1040_df[['avg_grade','year']]"
   ]
  },
  {
   "cell_type": "code",
   "execution_count": null,
   "metadata": {},
   "outputs": [],
   "source": [
    "# Select a set of consecutive rows (slice)\n",
    "cs1040_df[2:6]"
   ]
  },
  {
   "cell_type": "code",
   "execution_count": null,
   "metadata": {},
   "outputs": [],
   "source": [
    "# Select all the rows that have \"Spring\" as the semester value (filter)\n",
    "cs1040_df[cs1040_df['semester']==\"Spring\"]"
   ]
  },
  {
   "cell_type": "code",
   "execution_count": null,
   "metadata": {},
   "outputs": [],
   "source": [
    "# Another filter example\n",
    "cs1040_df[cs1040_df['avg_grade']> 3.2]"
   ]
  },
  {
   "cell_type": "code",
   "execution_count": null,
   "metadata": {},
   "outputs": [],
   "source": [
    "# Another way to select all the rows that have \"Spring\" as the semester value\n",
    "#\n",
    "# Two steps:\n",
    "# First index the table with the semester column\n",
    "# And then locate those semesters that have value \"Spring\"\n",
    "#\n",
    "# this is how a table with the semester column as an index looks like\n",
    "cs1040_df.set_index('semester')"
   ]
  },
  {
   "cell_type": "code",
   "execution_count": null,
   "metadata": {},
   "outputs": [],
   "source": [
    "# Here I create a new table that has the semester colum as an index\n",
    "# and then locate the rows that have \"Spring\" as the semester value\n",
    "cs1040_df_indexed=cs1040_df.set_index('semester')\n",
    "cs1040_df_indexed.loc['Spring']"
   ]
  },
  {
   "cell_type": "code",
   "execution_count": null,
   "metadata": {},
   "outputs": [],
   "source": [
    "# note that both tables are unchanged\n",
    "print(cs1040_df_indexed, '\\r', cs1040_df)"
   ]
  },
  {
   "cell_type": "code",
   "execution_count": null,
   "metadata": {},
   "outputs": [],
   "source": [
    "# remove one column\n",
    "cs1040_df.drop(['year'],axis=1)"
   ]
  },
  {
   "cell_type": "code",
   "execution_count": null,
   "metadata": {},
   "outputs": [],
   "source": [
    "cs1040_df"
   ]
  },
  {
   "cell_type": "code",
   "execution_count": null,
   "metadata": {},
   "outputs": [],
   "source": [
    "# tables can be sorted on the value of columns or rows\n",
    "cs1040_df.sort_values(by=['avg_grade'],axis=0)"
   ]
  },
  {
   "cell_type": "code",
   "execution_count": null,
   "metadata": {},
   "outputs": [],
   "source": [
    "# also descending\n",
    "cs1040_df.sort_values(by=['avg_grade'],axis=0, ascending=False)"
   ]
  },
  {
   "cell_type": "code",
   "execution_count": null,
   "metadata": {},
   "outputs": [],
   "source": [
    "# also along multiple rows or colums\n",
    "cs1040_df.sort_values(by=['semester','avg_grade'],axis=0)"
   ]
  },
  {
   "cell_type": "markdown",
   "metadata": {},
   "source": [
    "Note the wrong order of the semester column above \n",
    "It is due to the capital S of Spring (capital letters come before lower case in utf_8)\n",
    "So, I would like to capitalize all of the elements in the column semester.\n",
    "\n",
    "In Python there are [several methods](https://docs.python.org/3/library/stdtypes.html#index-30) that allow to manipulate strings, we will use the *capitalize* method\n",
    "\n",
    "Below is a simple example"
   ]
  },
  {
   "cell_type": "code",
   "execution_count": null,
   "metadata": {},
   "outputs": [],
   "source": [
    "a = \"hello\"\n",
    "a.capitalize()"
   ]
  },
  {
   "cell_type": "markdown",
   "metadata": {},
   "source": [
    "Now I can apply the capitalize method to all elements of the semester column"
   ]
  },
  {
   "cell_type": "code",
   "execution_count": null,
   "metadata": {},
   "outputs": [],
   "source": [
    "cs1040_df['semester'].str.capitalize()"
   ]
  },
  {
   "cell_type": "code",
   "execution_count": null,
   "metadata": {},
   "outputs": [],
   "source": [
    "# At this point however, my table hasn't changed\n",
    "cs1040_df"
   ]
  },
  {
   "cell_type": "code",
   "execution_count": null,
   "metadata": {},
   "outputs": [],
   "source": [
    "# In order to make it change, I have to assign the result of the operation back to the variable\n",
    "cs1040_df['semester'] = cs1040_df['semester'].str.capitalize()\n",
    "cs1040_df"
   ]
  },
  {
   "cell_type": "code",
   "execution_count": null,
   "metadata": {},
   "outputs": [],
   "source": [
    "# AN ALTERNATIVE WAY TO APPLY FUNCTIONS TO MULTIPLE ELEMENTS IN TABLES (LAMBDA FUNCTIONS)\n",
    "#     ***  REMOVE PREVIOUS RUNS TO TEST\n",
    "\n",
    "capitalizer = lambda x: x.capitalize()\n",
    "cs1040_df['semester']=cs1040_df['semester'].apply(capitalizer)"
   ]
  },
  {
   "cell_type": "code",
   "execution_count": null,
   "metadata": {},
   "outputs": [],
   "source": [
    "cs1040_df"
   ]
  },
  {
   "cell_type": "code",
   "execution_count": null,
   "metadata": {},
   "outputs": [],
   "source": [
    "cs1040_df.sort_values(by=['semester'],axis=0)"
   ]
  },
  {
   "cell_type": "code",
   "execution_count": null,
   "metadata": {},
   "outputs": [],
   "source": []
  }
 ],
 "metadata": {
  "kernelspec": {
   "display_name": "Python 3",
   "language": "python",
   "name": "python3"
  },
  "language_info": {
   "codemirror_mode": {
    "name": "ipython",
    "version": 3
   },
   "file_extension": ".py",
   "mimetype": "text/x-python",
   "name": "python",
   "nbconvert_exporter": "python",
   "pygments_lexer": "ipython3",
   "version": "3.6.5"
  }
 },
 "nbformat": 4,
 "nbformat_minor": 2
}
