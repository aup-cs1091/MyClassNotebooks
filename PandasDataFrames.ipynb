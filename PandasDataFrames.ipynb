{
 "cells": [
  {
   "cell_type": "markdown",
   "metadata": {},
   "source": [
    "# Pandas DataFrame\n",
    "[Build a DataFrame](#build) | \n",
    "[Explore a DataFrame](#explore) | \n",
    "[Select elements of the DataFrame](#select) | \n",
    "[Remove column](#remove) | \n",
    "[Add a column](#addCol) | \n",
    "[Remove a row](#removeRow) | \n",
    "[Add a row](#addRow) | \n",
    "[Sorting](#sort) | \n",
    "[Applying functions to all (or subsets) of a DataFrame](#apply)\n",
    "\n",
    "As mentioned in class, we will use the standard Pandas DataFrame commands rather than those proposed by the data8 book.\n",
    "In addition to the guide provided here you can find good tutorials on Pandas DataFrames at [tutorial point](https://www.tutorialspoint.com/python_pandas/python_pandas_dataframe.htm) and on the [Pandas official site](https://pandas.pydata.org/pandas-docs/stable/getting_started/dsintro.html#dataframe)"
   ]
  },
  {
   "cell_type": "code",
   "execution_count": null,
   "metadata": {},
   "outputs": [],
   "source": [
    "import pandas as pd"
   ]
  },
  {
   "cell_type": "markdown",
   "metadata": {},
   "source": [
    "## Build a DataFrame <a name = \"build\"></a>\n",
    "There are several ways to buid DataFrames. For the time being, we will only consider one."
   ]
  },
  {
   "cell_type": "code",
   "execution_count": null,
   "metadata": {},
   "outputs": [],
   "source": [
    "# Constructing dataFrame from a data structure (dictionary)\n",
    "# Note that the elements in the dictionary must have the same length\n",
    "cs1040={'year':[2016, 2016, 2017, 2017, 2018, 2018, 2019],\n",
    "        'semester': ['Spring', 'fall', 'Spring', 'fall', 'Spring', 'fall', 'Spring'],\n",
    "        'avg_grade': [3.0, 2.8, 3.2, 3.1, 3.4, 3.0, 3.5]}\n",
    "cs1040_df = pd.DataFrame(data=cs1040)\n",
    "cs1040_df"
   ]
  },
  {
   "cell_type": "code",
   "execution_count": null,
   "metadata": {},
   "outputs": [],
   "source": [
    "# Note that in the example above I did not define an index, so an index is defined automatically (the numbers 0, 1, 2, 3, ...)\n",
    "# One can, however define an index\n",
    "players = {'Name':['Tom', 'Jack', 'Steve', 'Ricky'],'Age':[28,34,29,42]}\n",
    "df = pd.DataFrame(data=players, index=['rank1','rank2','rank3','rank4'])\n",
    "print (df)"
   ]
  },
  {
   "cell_type": "code",
   "execution_count": null,
   "metadata": {},
   "outputs": [],
   "source": [
    "# You can also create an empty DataFrame:\n",
    "df = pd.DataFrame()\n",
    "print(df)"
   ]
  },
  {
   "cell_type": "markdown",
   "metadata": {},
   "source": [
    "## Explore a DataFrame <a name=\"explore\"></a>"
   ]
  },
  {
   "cell_type": "code",
   "execution_count": null,
   "metadata": {},
   "outputs": [],
   "source": [
    "# looking at the beginning of the dataFrame\n",
    "cs1040_df.head(2)"
   ]
  },
  {
   "cell_type": "code",
   "execution_count": null,
   "metadata": {},
   "outputs": [],
   "source": [
    "# looking at the end of the dataFrame\n",
    "cs1040_df.tail()"
   ]
  },
  {
   "cell_type": "code",
   "execution_count": null,
   "metadata": {},
   "outputs": [],
   "source": [
    "# descriptive statistics for numerical columns\n",
    "cs1040_df.describe()"
   ]
  },
  {
   "cell_type": "markdown",
   "metadata": {},
   "source": [
    "# Select elements of the DataFrame <a name=\"select\"></a>"
   ]
  },
  {
   "cell_type": "code",
   "execution_count": null,
   "metadata": {},
   "outputs": [],
   "source": [
    "# Select one column\n",
    "cs1040_df['avg_grade']"
   ]
  },
  {
   "cell_type": "code",
   "execution_count": null,
   "metadata": {},
   "outputs": [],
   "source": [
    "# Select several columns\n",
    "cs1040_df[['avg_grade','year']]"
   ]
  },
  {
   "cell_type": "code",
   "execution_count": null,
   "metadata": {},
   "outputs": [],
   "source": [
    "# Select a set of consecutive rows (slice)\n",
    "cs1040_df[2:6]"
   ]
  },
  {
   "cell_type": "code",
   "execution_count": null,
   "metadata": {},
   "outputs": [],
   "source": [
    "# Select all the rows that have \"Spring\" as the semester value (filter)\n",
    "cs1040_df[cs1040_df['semester']==\"Spring\"]"
   ]
  },
  {
   "cell_type": "code",
   "execution_count": null,
   "metadata": {},
   "outputs": [],
   "source": [
    "# Another filter example\n",
    "cs1040_df[cs1040_df['avg_grade']> 3.2]"
   ]
  },
  {
   "cell_type": "code",
   "execution_count": null,
   "metadata": {},
   "outputs": [],
   "source": [
    "# Another way to select all the rows that have \"Spring\" as the semester value\n",
    "#\n",
    "# Two steps:\n",
    "# First index the table with the semester column\n",
    "# And then locate those semesters that have value \"Spring\"\n",
    "#\n",
    "# this is how a table with the semester column as an index looks like\n",
    "cs1040_df.set_index('semester')"
   ]
  },
  {
   "cell_type": "code",
   "execution_count": null,
   "metadata": {},
   "outputs": [],
   "source": [
    "# Here I create a new table that has the semester colum as an index\n",
    "# and then locate the rows that have \"Spring\" as the semester value\n",
    "cs1040_df_indexed=cs1040_df.set_index('semester')\n",
    "cs1040_df_indexed.loc['Spring']"
   ]
  },
  {
   "cell_type": "code",
   "execution_count": null,
   "metadata": {},
   "outputs": [],
   "source": [
    "# note that both tables are unchanged\n",
    "print(cs1040_df_indexed, '\\r', cs1040_df)"
   ]
  },
  {
   "cell_type": "markdown",
   "metadata": {},
   "source": [
    "## Remove column <a name=\"remove\"></a>"
   ]
  },
  {
   "cell_type": "code",
   "execution_count": null,
   "metadata": {},
   "outputs": [],
   "source": [
    "# remove one column\n",
    "cs1040_df.drop(['year'],axis=1)"
   ]
  },
  {
   "cell_type": "code",
   "execution_count": null,
   "metadata": {},
   "outputs": [],
   "source": [
    "cs1040_df"
   ]
  },
  {
   "cell_type": "markdown",
   "metadata": {},
   "source": [
    "#### You can also delete a column using the *del* function\n",
    "\n",
    "del cs1040_df\\['year'\\]\n",
    "\n",
    "#### or using the *pop* function\n",
    "\n",
    "cs1040_df.pop('year')"
   ]
  },
  {
   "cell_type": "markdown",
   "metadata": {},
   "source": [
    "## Add a column <a name = \"addCol\"></a>"
   ]
  },
  {
   "cell_type": "code",
   "execution_count": null,
   "metadata": {},
   "outputs": [],
   "source": [
    "# You can assign values directly\n",
    "cs1040_df['Num of students']=[10,12,11,9,17,14,20]\n",
    "cs1040_df"
   ]
  },
  {
   "cell_type": "code",
   "execution_count": null,
   "metadata": {},
   "outputs": [],
   "source": [
    "# Or you can calculate values\n",
    "cs1040_df['%grade']=cs1040_df['avg_grade']/4*100\n",
    "cs1040_df"
   ]
  },
  {
   "cell_type": "markdown",
   "metadata": {},
   "source": [
    "## Remove a row <a name=\"removeRow\"></a>"
   ]
  },
  {
   "cell_type": "code",
   "execution_count": null,
   "metadata": {},
   "outputs": [],
   "source": [
    "cs1040_df.drop(6)"
   ]
  },
  {
   "cell_type": "markdown",
   "metadata": {},
   "source": [
    "## Add a row <a name=\"addRow\"></a>"
   ]
  },
  {
   "cell_type": "code",
   "execution_count": null,
   "metadata": {},
   "outputs": [],
   "source": [
    "myrow = {'year':[2015], 'semester':['Spring'], 'avg_grade':[4.0], 'Num of students':[18], '%grade':[100]}\n",
    "df = pd.DataFrame(data=myrow)\n",
    "cs1040_df=cs1040_df.append(df)\n",
    "cs1040_df"
   ]
  },
  {
   "cell_type": "code",
   "execution_count": null,
   "metadata": {},
   "outputs": [],
   "source": [
    "# note the repeated labels\n",
    "# This still works\n",
    "cs1040_df[5:8]"
   ]
  },
  {
   "cell_type": "code",
   "execution_count": null,
   "metadata": {},
   "outputs": [],
   "source": [
    "# also this works\n",
    "cs1040_df[0:2]"
   ]
  },
  {
   "cell_type": "code",
   "execution_count": null,
   "metadata": {},
   "outputs": [],
   "source": [
    "# However if I remove the row with label 0, more than one row will be removed\n",
    "cs1040_df=cs1040_df.drop(0)\n",
    "cs1040_df"
   ]
  },
  {
   "cell_type": "markdown",
   "metadata": {},
   "source": [
    "## Sorting <a name=\"sort\"></a>"
   ]
  },
  {
   "cell_type": "code",
   "execution_count": null,
   "metadata": {},
   "outputs": [],
   "source": [
    "# tables can be sorted on the value of columns or rows\n",
    "cs1040_df.sort_values(by=['avg_grade'],axis=0)"
   ]
  },
  {
   "cell_type": "code",
   "execution_count": null,
   "metadata": {},
   "outputs": [],
   "source": [
    "# also descending\n",
    "cs1040_df.sort_values(by=['avg_grade'],axis=0, ascending=False)"
   ]
  },
  {
   "cell_type": "code",
   "execution_count": null,
   "metadata": {},
   "outputs": [],
   "source": [
    "# also along multiple rows or colums\n",
    "cs1040_df.sort_values(by=['semester','avg_grade'],axis=0)"
   ]
  },
  {
   "cell_type": "markdown",
   "metadata": {},
   "source": [
    "## Applying functions to all (or subsets) of a DataFrame <a name=\"apply\"></a>"
   ]
  },
  {
   "cell_type": "markdown",
   "metadata": {},
   "source": [
    "Note the wrong order of the semester column above \n",
    "It is due to the capital S of Spring (capital letters come before lower case in utf_8)\n",
    "So, I would like to capitalize all of the elements in the column semester.\n",
    "\n",
    "In Python there are [several methods](https://docs.python.org/3/library/stdtypes.html#index-30) that allow to manipulate strings, we will use the *capitalize* method\n",
    "\n",
    "Below is a simple example"
   ]
  },
  {
   "cell_type": "code",
   "execution_count": null,
   "metadata": {},
   "outputs": [],
   "source": [
    "a = \"hello\"\n",
    "a.capitalize()"
   ]
  },
  {
   "cell_type": "markdown",
   "metadata": {},
   "source": [
    "Now I can apply the capitalize method to all elements of the semester column"
   ]
  },
  {
   "cell_type": "code",
   "execution_count": null,
   "metadata": {},
   "outputs": [],
   "source": [
    "cs1040_df['semester'].str.capitalize()"
   ]
  },
  {
   "cell_type": "code",
   "execution_count": null,
   "metadata": {},
   "outputs": [],
   "source": [
    "# At this point however, my table hasn't changed\n",
    "cs1040_df"
   ]
  },
  {
   "cell_type": "code",
   "execution_count": null,
   "metadata": {},
   "outputs": [],
   "source": [
    "# In order to make it change, I have to assign the result of the operation back to the variable\n",
    "cs1040_df['semester'] = cs1040_df['semester'].str.capitalize()\n",
    "cs1040_df"
   ]
  },
  {
   "cell_type": "code",
   "execution_count": null,
   "metadata": {},
   "outputs": [],
   "source": [
    "# AN ALTERNATIVE WAY TO APPLY FUNCTIONS TO MULTIPLE ELEMENTS IN TABLES (LAMBDA FUNCTIONS)\n",
    "#     ***  REMOVE PREVIOUS RUNS TO TEST\n",
    "\n",
    "capitalizer = lambda x: x.capitalize()\n",
    "cs1040_df['semester']=cs1040_df['semester'].apply(capitalizer)"
   ]
  },
  {
   "cell_type": "code",
   "execution_count": null,
   "metadata": {},
   "outputs": [],
   "source": [
    "cs1040_df"
   ]
  },
  {
   "cell_type": "code",
   "execution_count": null,
   "metadata": {},
   "outputs": [],
   "source": [
    "cs1040_df.sort_values(by=['semester'],axis=0)"
   ]
  },
  {
   "cell_type": "code",
   "execution_count": null,
   "metadata": {},
   "outputs": [],
   "source": []
  }
 ],
 "metadata": {
  "kernelspec": {
   "display_name": "Python 3",
   "language": "python",
   "name": "python3"
  },
  "language_info": {
   "codemirror_mode": {
    "name": "ipython",
    "version": 3
   },
   "file_extension": ".py",
   "mimetype": "text/x-python",
   "name": "python",
   "nbconvert_exporter": "python",
   "pygments_lexer": "ipython3",
   "version": "3.6.5"
  }
 },
 "nbformat": 4,
 "nbformat_minor": 2
}
