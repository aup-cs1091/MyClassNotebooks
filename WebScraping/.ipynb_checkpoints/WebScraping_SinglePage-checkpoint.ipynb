{
 "cells": [
  {
   "cell_type": "markdown",
   "metadata": {},
   "source": [
    "# Scraping data from a web page - example with explanations\n",
    "Requires beautifulsoup4\n",
    "\n",
    "- pip install beautifulsoup4 \n",
    "or \n",
    "- sudo pip install beautifulsoup4\n",
    "\n",
    "see [Beautifulsoup documentation](https://www.crummy.com/software/BeautifulSoup/bs4/doc/#navigating-the-tree) for more details of what is shown below\n",
    "\n",
    "Here is a summary of the navigation with BeautifulSoup\n",
    "![alt text](summaryOfBS4CommandsForNavigation.png \"navigation summary\")\n",
    "\n",
    "A version of this code without explanations is available [here](WebScraping_SinglePage-NoInstructions.ipynb)"
   ]
  },
  {
   "cell_type": "code",
   "execution_count": null,
   "metadata": {},
   "outputs": [],
   "source": [
    "from bs4 import BeautifulSoup\n",
    "import requests"
   ]
  },
  {
   "cell_type": "markdown",
   "metadata": {},
   "source": [
    "## Getting all the HTML code"
   ]
  },
  {
   "cell_type": "code",
   "execution_count": null,
   "metadata": {},
   "outputs": [],
   "source": [
    "url = 'https://en.wikipedia.org/wiki/Reince_Priebus'\n",
    "r  = requests.get(url)\n",
    "data = r.text\n",
    "soup = BeautifulSoup(data)\n",
    "soup"
   ]
  },
  {
   "cell_type": "markdown",
   "metadata": {},
   "source": [
    "### Example: get all the links on the page"
   ]
  },
  {
   "cell_type": "code",
   "execution_count": null,
   "metadata": {},
   "outputs": [],
   "source": [
    "for link in soup.find_all('a'):\n",
    "    print(link.get('href'))"
   ]
  },
  {
   "cell_type": "markdown",
   "metadata": {},
   "source": [
    "## Searching by CSS class\n",
    "Inspecting the wikipedia page https://en.wikipedia.org/wiki/Reince_Priebus you can see that the date of birth and name are inside HTML elements (span and div) with class attributes. We will retrieve these two pieces of information first \n",
    "![alt text](webScrapingImg1.png \"html structure for birthday and name\")"
   ]
  },
  {
   "cell_type": "code",
   "execution_count": null,
   "metadata": {},
   "outputs": [],
   "source": [
    "# look for a span tag with a class named bday\n",
    "bday=soup.find(\"span\", class_=\"bday\").get_text()\n",
    "bday"
   ]
  },
  {
   "cell_type": "code",
   "execution_count": null,
   "metadata": {},
   "outputs": [],
   "source": [
    "# one can also get the list of all matches\n",
    "#bdayTag=soup.find_all(\"span\", class_=\"bday\")"
   ]
  },
  {
   "cell_type": "code",
   "execution_count": null,
   "metadata": {},
   "outputs": [],
   "source": [
    "nickname=soup.find(\"div\", class_=\"nickname\").get_text()\n",
    "nickname"
   ]
  },
  {
   "cell_type": "markdown",
   "metadata": {},
   "source": [
    "## Navigating HTML\n",
    "The information about education doesn't have any class tags and it is stored in an HTML table.\n",
    "![alt text](webScrapingImg2.png \"html structure for education\")\n",
    "Because there are many tables in the page and they are not named, we do the following:\n",
    "- start by looking for a th tag with text Education (using find)\n",
    "- retrieve the row that contains the th tag (using parent)\n",
    "- because the information about the education is stored as links we then retrieve all the 'a' tags (using find_all)\n",
    "- for each one of the links we retrieve the text (using string)\n",
    "\n",
    "The code marked explanation only is not necessary and only there to show you what is happening"
   ]
  },
  {
   "cell_type": "code",
   "execution_count": null,
   "metadata": {},
   "outputs": [],
   "source": [
    "# find the th tag that has a text 'Education'\n",
    "edu_heading = soup.find(\"th\", string=\"Education\")\n",
    "edu_heading"
   ]
  },
  {
   "cell_type": "code",
   "execution_count": null,
   "metadata": {},
   "outputs": [],
   "source": [
    "# One can also find multiple tags that match the requirement\n",
    "#edu_table = soup.find_all(\"th\", string=\"Education\")"
   ]
  },
  {
   "cell_type": "code",
   "execution_count": null,
   "metadata": {},
   "outputs": [],
   "source": [
    "# go one level up to the table row level\n",
    "edu_row = edu_heading.parent\n",
    "edu_row"
   ]
  },
  {
   "cell_type": "code",
   "execution_count": null,
   "metadata": {},
   "outputs": [],
   "source": [
    "# get a list containing all links\n",
    "edu_list_with_tags = edu_row.find_all('a')\n",
    "edu_list_with_tags"
   ]
  },
  {
   "cell_type": "code",
   "execution_count": null,
   "metadata": {},
   "outputs": [],
   "source": [
    "# Explanationm Only\n",
    "# this shows how one can extract the text of the links\n",
    "# you also see that, in order to get each degree, we need two consecutive elements (university and degree name)\n",
    "for element in edu_list_with_tags:\n",
    "   print(element.string)"
   ]
  },
  {
   "cell_type": "code",
   "execution_count": null,
   "metadata": {},
   "outputs": [],
   "source": [
    "# Explanationm Only\n",
    "# this shows that edu_list_with_tags is a bs4 element \n",
    "type(edu_list_with_tags)"
   ]
  },
  {
   "cell_type": "code",
   "execution_count": null,
   "metadata": {},
   "outputs": [],
   "source": [
    "# therefore we transform it into a list to be able to scroll through each element\n",
    "# to confirm that all is fine we print the first element of the list\n",
    "tagsList = list(edu_list_with_tags)\n",
    "tagsList[0]"
   ]
  },
  {
   "cell_type": "code",
   "execution_count": null,
   "metadata": {},
   "outputs": [],
   "source": [
    "# Explanationm Only\n",
    "# this shows that each element in our list is a bs4 element \n",
    "# therefore we can apply bs4 methods\n",
    "type(tagsList[0])"
   ]
  },
  {
   "cell_type": "code",
   "execution_count": null,
   "metadata": {},
   "outputs": [],
   "source": [
    "# Explanationm Only\n",
    "# this shows how to extract the text from a single element\n",
    "tagsList[0].string"
   ]
  },
  {
   "cell_type": "markdown",
   "metadata": {},
   "source": [
    "Now we write the code that builds a list of degrees for the person in question starting from the tagsList\n",
    "- first we create a list where we will store all the degrees in the form \\[university, degree\\]\n",
    "- then we traverse the tagsList 2 by 2 (see the range from 0 to the end of the list with step 2)\n",
    "- and we save the text of the link in a pair \\[university, degree\\]"
   ]
  },
  {
   "cell_type": "code",
   "execution_count": null,
   "metadata": {},
   "outputs": [],
   "source": [
    "edu_list=[]\n",
    "for x in range(0,len(tagsList)-1, 2):\n",
    "    edu_list.append([tagsList[x].string, tagsList[x+1].string])\n",
    "edu_list"
   ]
  },
  {
   "cell_type": "markdown",
   "metadata": {},
   "source": [
    "information about children is also stored in a table \n",
    "![alt text](webScrapingImg3.png \"html structure for numb of children\")"
   ]
  },
  {
   "cell_type": "code",
   "execution_count": null,
   "metadata": {},
   "outputs": [],
   "source": [
    "# find the th tag that has a text 'Children'\n",
    "children_heading = soup.find(\"th\", string=\"Children\")\n",
    "children_heading"
   ]
  },
  {
   "cell_type": "code",
   "execution_count": null,
   "metadata": {},
   "outputs": [],
   "source": [
    "# Explanationm Only\n",
    "# next_sibling gives use the next element in the HTML hierarchy \n",
    "children_heading.next_sibling"
   ]
  },
  {
   "cell_type": "code",
   "execution_count": null,
   "metadata": {},
   "outputs": [],
   "source": [
    "# we retreive the number of children by getting the text of the next siblin\n",
    "numbChildren = children_heading.next_sibling.string\n",
    "numbChildren"
   ]
  }
 ],
 "metadata": {
  "kernelspec": {
   "display_name": "Python 3",
   "language": "python",
   "name": "python3"
  },
  "language_info": {
   "codemirror_mode": {
    "name": "ipython",
    "version": 3
   },
   "file_extension": ".py",
   "mimetype": "text/x-python",
   "name": "python",
   "nbconvert_exporter": "python",
   "pygments_lexer": "ipython3",
   "version": "3.6.5"
  }
 },
 "nbformat": 4,
 "nbformat_minor": 2
}
