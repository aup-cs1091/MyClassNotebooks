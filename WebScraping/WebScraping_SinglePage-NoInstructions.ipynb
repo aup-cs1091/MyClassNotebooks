{
 "cells": [
  {
   "cell_type": "markdown",
   "metadata": {},
   "source": [
    "# Scraping data from a web page (example)\n",
    "For details about this code see [the version with explanations](WebScraping_SinglePage.ipynb)"
   ]
  },
  {
   "cell_type": "code",
   "execution_count": 1,
   "metadata": {},
   "outputs": [
    {
     "data": {
      "text/plain": [
       "['Reinhold Richard Priebus',\n",
       " '1972-03-18',\n",
       " \"[['University of Wisconsin–Whitewater', 'BA'], ['University of Miami', 'JD']]\",\n",
       " '2']"
      ]
     },
     "execution_count": 1,
     "metadata": {},
     "output_type": "execute_result"
    }
   ],
   "source": [
    "from bs4 import BeautifulSoup\n",
    "import requests\n",
    "\n",
    "url = 'https://en.wikipedia.org/wiki/Reince_Priebus'\n",
    "r  = requests.get(url)\n",
    "data = r.text\n",
    "soup = BeautifulSoup(data)\n",
    "\n",
    "# create a list to store all the data\n",
    "personInfo = []\n",
    "\n",
    "\n",
    "# *** name and bday ***\n",
    "\n",
    "# look for a div tag with a class named nickname\n",
    "name = soup.find(\"div\", class_=\"nickname\").get_text()\n",
    "\n",
    "# add the person name to the list\n",
    "personInfo.append(name)\n",
    "\n",
    "# look for a span tag with a class named bday\n",
    "bday=soup.find(\"span\", class_=\"bday\").get_text()\n",
    "\n",
    "# add the person bday to the list\n",
    "personInfo.append(bday)\n",
    "\n",
    "\n",
    "# *** education ***\n",
    "\n",
    "# find the th tag that has a text 'Education'\n",
    "edu_heading = soup.find(\"th\", string=\"Education\")\n",
    "\n",
    "# go one level up to the table row level\n",
    "edu_row = edu_heading.parent\n",
    "\n",
    "# get all links (this is how education info is stored)\n",
    "edu_list_with_tags = edu_row.find_all('a')\n",
    "\n",
    "# transform it into a list to be able to scroll through each element\n",
    "tagsList = list(edu_list_with_tags)\n",
    "\n",
    "# collect all [university, degree] pairs\n",
    "edu_list=[]\n",
    "for x in range(0,len(tagsList)-1, 2):\n",
    "    edu_list.append([tagsList[x].string, tagsList[x+1].string])\n",
    "\n",
    "# add the person education to the list (converting it to a string)\n",
    "personInfo.append(str(edu_list))\n",
    "\n",
    "\n",
    "# *** children ***\n",
    "\n",
    "# find the th tag that has a text 'Children'\n",
    "children_heading = soup.find(\"th\", string=\"Children\")\n",
    "\n",
    "# retreive the number of children by getting the text of the next siblin\n",
    "numbChildren = children_heading.next_sibling.string\n",
    "\n",
    "# add the person children to the list\n",
    "personInfo.append(numbChildren)\n",
    "\n",
    "personInfo"
   ]
  },
  {
   "cell_type": "code",
   "execution_count": null,
   "metadata": {},
   "outputs": [],
   "source": []
  }
 ],
 "metadata": {
  "kernelspec": {
   "display_name": "Python 3",
   "language": "python",
   "name": "python3"
  },
  "language_info": {
   "codemirror_mode": {
    "name": "ipython",
    "version": 3
   },
   "file_extension": ".py",
   "mimetype": "text/x-python",
   "name": "python",
   "nbconvert_exporter": "python",
   "pygments_lexer": "ipython3",
   "version": "3.6.5"
  }
 },
 "nbformat": 4,
 "nbformat_minor": 2
}
